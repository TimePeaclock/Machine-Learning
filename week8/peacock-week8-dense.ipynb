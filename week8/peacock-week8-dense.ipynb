{
 "cells": [
  {
   "cell_type": "code",
   "execution_count": 1,
   "source": [
    "from tensorflow.keras.datasets import mnist\r\n",
    "\r\n",
    "#this will be the data for the MNIST test\r\n",
    "(X_train, y_train), (X_test, y_test) = mnist.load_data()"
   ],
   "outputs": [],
   "metadata": {}
  },
  {
   "cell_type": "code",
   "execution_count": 2,
   "source": [
    "#reshaping data\r\n",
    "X_train = X_train.reshape((60000, 28, 28, 1))\r\n",
    "X_test = X_test.reshape((10000,28, 28, 1))\r\n",
    "\r\n",
    "#normalize data\r\n",
    "X_train = X_train.astype('float32') / 255\r\n",
    "X_test = X_test.astype('float32') / 255"
   ],
   "outputs": [],
   "metadata": {}
  },
  {
   "cell_type": "code",
   "execution_count": 3,
   "source": [
    "from tensorflow.keras.utils import to_categorical\r\n",
    "\r\n",
    "#one-hot encodes y values\r\n",
    "y_train = to_categorical(y_train)\r\n",
    "y_test = to_categorical(y_test)"
   ],
   "outputs": [],
   "metadata": {}
  },
  {
   "cell_type": "code",
   "execution_count": 4,
   "source": [
    "from tensorflow.keras.models import Sequential\r\n",
    "from tensorflow.keras.layers import Conv2D, Dense, Flatten, MaxPooling2D\r\n",
    "\r\n",
    "cnn = Sequential()\r\n",
    "\r\n",
    "#adds first convolution layer\r\n",
    "cnn.add(Conv2D(filters=64, kernel_size=(3,3), activation='relu',input_shape=(28, 28, 1)))\r\n",
    "cnn.add(MaxPooling2D(pool_size=(2,2)))\r\n",
    "\r\n",
    "#adds second convolution layer\r\n",
    "cnn.add(Conv2D(filters=128, kernel_size=(3,3), activation='relu',input_shape=(28, 28, 1)))\r\n",
    "cnn.add(MaxPooling2D(pool_size=(2,2)))\r\n",
    "\r\n",
    "#flattens results\r\n",
    "cnn.add(Flatten())\r\n",
    "\r\n",
    "#only contians one dense layer\r\n",
    "cnn.add(Dense(units=10, activation='softmax'))\r\n",
    "\r\n",
    "cnn.summary()"
   ],
   "outputs": [
    {
     "output_type": "stream",
     "name": "stdout",
     "text": [
      "Model: \"sequential\"\n",
      "_________________________________________________________________\n",
      "Layer (type)                 Output Shape              Param #   \n",
      "=================================================================\n",
      "conv2d (Conv2D)              (None, 26, 26, 64)        640       \n",
      "_________________________________________________________________\n",
      "max_pooling2d (MaxPooling2D) (None, 13, 13, 64)        0         \n",
      "_________________________________________________________________\n",
      "conv2d_1 (Conv2D)            (None, 11, 11, 128)       73856     \n",
      "_________________________________________________________________\n",
      "max_pooling2d_1 (MaxPooling2 (None, 5, 5, 128)         0         \n",
      "_________________________________________________________________\n",
      "flatten (Flatten)            (None, 3200)              0         \n",
      "_________________________________________________________________\n",
      "dense (Dense)                (None, 10)                32010     \n",
      "=================================================================\n",
      "Total params: 106,506\n",
      "Trainable params: 106,506\n",
      "Non-trainable params: 0\n",
      "_________________________________________________________________\n"
     ]
    }
   ],
   "metadata": {}
  },
  {
   "cell_type": "code",
   "execution_count": 5,
   "source": [
    "import time\r\n",
    "\r\n",
    "cnn.compile(optimizer='adam', loss='categorical_crossentropy', metrics=['accuracy'])\r\n",
    "\r\n",
    "startTime = time.time()\r\n",
    "cnn.fit(X_train, y_train, epochs=5, batch_size=64, validation_split=0.1)\r\n",
    "endTime = time.time()\r\n",
    "\r\n",
    "mnistTimeToComplete = endTime - startTime"
   ],
   "outputs": [
    {
     "output_type": "stream",
     "name": "stdout",
     "text": [
      "Epoch 1/5\n",
      "844/844 [==============================] - 16s 18ms/step - loss: 0.1690 - accuracy: 0.9494 - val_loss: 0.0531 - val_accuracy: 0.9862\n",
      "Epoch 2/5\n",
      "844/844 [==============================] - 15s 18ms/step - loss: 0.0513 - accuracy: 0.9841 - val_loss: 0.0373 - val_accuracy: 0.9883\n",
      "Epoch 3/5\n",
      "844/844 [==============================] - 16s 19ms/step - loss: 0.0366 - accuracy: 0.9888 - val_loss: 0.0381 - val_accuracy: 0.9897\n",
      "Epoch 4/5\n",
      "844/844 [==============================] - 16s 19ms/step - loss: 0.0262 - accuracy: 0.9916 - val_loss: 0.0347 - val_accuracy: 0.9903\n",
      "Epoch 5/5\n",
      "844/844 [==============================] - 16s 19ms/step - loss: 0.0209 - accuracy: 0.9934 - val_loss: 0.0341 - val_accuracy: 0.9900\n"
     ]
    }
   ],
   "metadata": {}
  },
  {
   "cell_type": "code",
   "execution_count": 6,
   "source": [
    "loss, accuracy = cnn.evaluate(X_test, y_test)\r\n",
    "\r\n",
    "#loss and accuracy for mnist test\r\n",
    "print(f'loss: {loss}')\r\n",
    "print(f'accuracy: {accuracy}')\r\n",
    "print(f'time: {mnistTimeToComplete}')"
   ],
   "outputs": [
    {
     "output_type": "stream",
     "name": "stdout",
     "text": [
      "313/313 [==============================] - 1s 3ms/step - loss: 0.0356 - accuracy: 0.9882\n",
      "loss: 0.03561628609895706\n",
      "accuracy: 0.9882000088691711\n",
      "time: 79.07871413230896\n"
     ]
    }
   ],
   "metadata": {}
  },
  {
   "cell_type": "code",
   "execution_count": 7,
   "source": [
    "cnn = Sequential()\r\n",
    "\r\n",
    "#adds first convolution layer\r\n",
    "cnn.add(Conv2D(filters=64, kernel_size=(3,3), activation='relu',input_shape=(28, 28, 1)))\r\n",
    "cnn.add(MaxPooling2D(pool_size=(2,2)))\r\n",
    "\r\n",
    "#adds second convolution layer\r\n",
    "cnn.add(Conv2D(filters=128, kernel_size=(3,3), activation='relu',input_shape=(28, 28, 1)))\r\n",
    "cnn.add(MaxPooling2D(pool_size=(2,2)))\r\n",
    "\r\n",
    "#flattens results\r\n",
    "cnn.add(Flatten())\r\n",
    "\r\n",
    "#adds dense layer with 4096 neurons\r\n",
    "cnn.add(Dense(units=4096, activation='relu'))\r\n",
    "\r\n",
    "#adds a dense layer\r\n",
    "cnn.add(Dense(units=128, activation='relu'))\r\n",
    "\r\n",
    "#adds another dense layer for final ouput\r\n",
    "cnn.add(Dense(units=10, activation='softmax'))\r\n",
    "\r\n",
    "cnn.summary()"
   ],
   "outputs": [
    {
     "output_type": "stream",
     "name": "stdout",
     "text": [
      "Model: \"sequential_1\"\n",
      "_________________________________________________________________\n",
      "Layer (type)                 Output Shape              Param #   \n",
      "=================================================================\n",
      "conv2d_2 (Conv2D)            (None, 26, 26, 64)        640       \n",
      "_________________________________________________________________\n",
      "max_pooling2d_2 (MaxPooling2 (None, 13, 13, 64)        0         \n",
      "_________________________________________________________________\n",
      "conv2d_3 (Conv2D)            (None, 11, 11, 128)       73856     \n",
      "_________________________________________________________________\n",
      "max_pooling2d_3 (MaxPooling2 (None, 5, 5, 128)         0         \n",
      "_________________________________________________________________\n",
      "flatten_1 (Flatten)          (None, 3200)              0         \n",
      "_________________________________________________________________\n",
      "dense_1 (Dense)              (None, 4096)              13111296  \n",
      "_________________________________________________________________\n",
      "dense_2 (Dense)              (None, 128)               524416    \n",
      "_________________________________________________________________\n",
      "dense_3 (Dense)              (None, 10)                1290      \n",
      "=================================================================\n",
      "Total params: 13,711,498\n",
      "Trainable params: 13,711,498\n",
      "Non-trainable params: 0\n",
      "_________________________________________________________________\n"
     ]
    }
   ],
   "metadata": {}
  },
  {
   "cell_type": "code",
   "execution_count": 8,
   "source": [
    "import time\r\n",
    "\r\n",
    "cnn.compile(optimizer='adam', loss='categorical_crossentropy', metrics=['accuracy'])\r\n",
    "\r\n",
    "startTime = time.time()\r\n",
    "cnn.fit(X_train, y_train, epochs=5, batch_size=64, validation_split=0.1)\r\n",
    "endTime = time.time()\r\n",
    "\r\n",
    "mnistTimeToComplete = endTime - startTime"
   ],
   "outputs": [
    {
     "output_type": "stream",
     "name": "stdout",
     "text": [
      "Epoch 1/5\n",
      "844/844 [==============================] - 48s 56ms/step - loss: 0.1109 - accuracy: 0.9649 - val_loss: 0.0404 - val_accuracy: 0.9885\n",
      "Epoch 2/5\n",
      "844/844 [==============================] - 51s 61ms/step - loss: 0.0369 - accuracy: 0.9883 - val_loss: 0.0409 - val_accuracy: 0.9883\n",
      "Epoch 3/5\n",
      "844/844 [==============================] - 50s 59ms/step - loss: 0.0257 - accuracy: 0.9919 - val_loss: 0.0387 - val_accuracy: 0.9895\n",
      "Epoch 4/5\n",
      "844/844 [==============================] - 49s 59ms/step - loss: 0.0180 - accuracy: 0.9943 - val_loss: 0.0335 - val_accuracy: 0.9912\n",
      "Epoch 5/5\n",
      "844/844 [==============================] - 48s 57ms/step - loss: 0.0155 - accuracy: 0.9952 - val_loss: 0.0421 - val_accuracy: 0.9908\n"
     ]
    }
   ],
   "metadata": {}
  },
  {
   "cell_type": "code",
   "execution_count": 9,
   "source": [
    "loss, accuracy = cnn.evaluate(X_test, y_test)\r\n",
    "\r\n",
    "#loss and accuracy for mnist test\r\n",
    "print(f'loss: {loss}')\r\n",
    "print(f'accuracy: {accuracy}')\r\n",
    "print(f'time: {mnistTimeToComplete}')"
   ],
   "outputs": [
    {
     "output_type": "stream",
     "name": "stdout",
     "text": [
      "313/313 [==============================] - 2s 6ms/step - loss: 0.0315 - accuracy: 0.9906\n",
      "loss: 0.03151347488164902\n",
      "accuracy: 0.9905999898910522\n",
      "time: 246.7457139492035\n"
     ]
    }
   ],
   "metadata": {}
  },
  {
   "cell_type": "markdown",
   "source": [
    "<h1>Results of Layer adjustments</h1>\r\n",
    "<h3>removing first dense layer</h3>\r\n",
    "<p>loss: 0.03561628609895706<br>\r\n",
    "accuracy: 0.9882000088691711<br>\r\n",
    "time: 79.07871413230896<p>\r\n",
    "<h3>adding 4096 neuron dense layer</h3>\r\n",
    "<p>loss: 0.03151347488164902<br>\r\n",
    "accuracy: 0.9905999898910522<br>\r\n",
    "time: 246.7457139492035<p>\r\n",
    "<br>\r\n",
    "<p>removing the first dense layer lowers the accuracy by about 2 percent but decreases the time to execute by roughly 20 seconds</p>\r\n",
    "<p>adding the 4096 neuron dense layer increases the accuracy by about 1 percent but increases the time to execute by almost 3 times</p>"
   ],
   "metadata": {}
  }
 ],
 "metadata": {
  "orig_nbformat": 4,
  "language_info": {
   "name": "python",
   "version": "3.8.13",
   "mimetype": "text/x-python",
   "codemirror_mode": {
    "name": "ipython",
    "version": 3
   },
   "pygments_lexer": "ipython3",
   "nbconvert_exporter": "python",
   "file_extension": ".py"
  },
  "kernelspec": {
   "name": "python3",
   "display_name": "Python 3.8.13 64-bit ('tf_env': conda)"
  },
  "interpreter": {
   "hash": "bab9a845011cf9633fcb07dfb3bbe68b7b7196c2a9b433fdf30f1c2c07e27de5"
  }
 },
 "nbformat": 4,
 "nbformat_minor": 2
}