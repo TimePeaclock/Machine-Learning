{
 "cells": [
  {
   "cell_type": "code",
   "execution_count": 71,
   "source": [
    "from sklearn.datasets import load_breast_cancer\r\n",
    "\r\n",
    "#loading dataset breast_cancer\r\n",
    "breast_cancer = load_breast_cancer()\r\n",
    "\r\n",
    "print(breast_cancer.DESCR)"
   ],
   "outputs": [
    {
     "output_type": "stream",
     "name": "stdout",
     "text": [
      ".. _breast_cancer_dataset:\n",
      "\n",
      "Breast cancer wisconsin (diagnostic) dataset\n",
      "--------------------------------------------\n",
      "\n",
      "**Data Set Characteristics:**\n",
      "\n",
      "    :Number of Instances: 569\n",
      "\n",
      "    :Number of Attributes: 30 numeric, predictive attributes and the class\n",
      "\n",
      "    :Attribute Information:\n",
      "        - radius (mean of distances from center to points on the perimeter)\n",
      "        - texture (standard deviation of gray-scale values)\n",
      "        - perimeter\n",
      "        - area\n",
      "        - smoothness (local variation in radius lengths)\n",
      "        - compactness (perimeter^2 / area - 1.0)\n",
      "        - concavity (severity of concave portions of the contour)\n",
      "        - concave points (number of concave portions of the contour)\n",
      "        - symmetry\n",
      "        - fractal dimension (\"coastline approximation\" - 1)\n",
      "\n",
      "        The mean, standard error, and \"worst\" or largest (mean of the three\n",
      "        worst/largest values) of these features were computed for each image,\n",
      "        resulting in 30 features.  For instance, field 0 is Mean Radius, field\n",
      "        10 is Radius SE, field 20 is Worst Radius.\n",
      "\n",
      "        - class:\n",
      "                - WDBC-Malignant\n",
      "                - WDBC-Benign\n",
      "\n",
      "    :Summary Statistics:\n",
      "\n",
      "    ===================================== ====== ======\n",
      "                                           Min    Max\n",
      "    ===================================== ====== ======\n",
      "    radius (mean):                        6.981  28.11\n",
      "    texture (mean):                       9.71   39.28\n",
      "    perimeter (mean):                     43.79  188.5\n",
      "    area (mean):                          143.5  2501.0\n",
      "    smoothness (mean):                    0.053  0.163\n",
      "    compactness (mean):                   0.019  0.345\n",
      "    concavity (mean):                     0.0    0.427\n",
      "    concave points (mean):                0.0    0.201\n",
      "    symmetry (mean):                      0.106  0.304\n",
      "    fractal dimension (mean):             0.05   0.097\n",
      "    radius (standard error):              0.112  2.873\n",
      "    texture (standard error):             0.36   4.885\n",
      "    perimeter (standard error):           0.757  21.98\n",
      "    area (standard error):                6.802  542.2\n",
      "    smoothness (standard error):          0.002  0.031\n",
      "    compactness (standard error):         0.002  0.135\n",
      "    concavity (standard error):           0.0    0.396\n",
      "    concave points (standard error):      0.0    0.053\n",
      "    symmetry (standard error):            0.008  0.079\n",
      "    fractal dimension (standard error):   0.001  0.03\n",
      "    radius (worst):                       7.93   36.04\n",
      "    texture (worst):                      12.02  49.54\n",
      "    perimeter (worst):                    50.41  251.2\n",
      "    area (worst):                         185.2  4254.0\n",
      "    smoothness (worst):                   0.071  0.223\n",
      "    compactness (worst):                  0.027  1.058\n",
      "    concavity (worst):                    0.0    1.252\n",
      "    concave points (worst):               0.0    0.291\n",
      "    symmetry (worst):                     0.156  0.664\n",
      "    fractal dimension (worst):            0.055  0.208\n",
      "    ===================================== ====== ======\n",
      "\n",
      "    :Missing Attribute Values: None\n",
      "\n",
      "    :Class Distribution: 212 - Malignant, 357 - Benign\n",
      "\n",
      "    :Creator:  Dr. William H. Wolberg, W. Nick Street, Olvi L. Mangasarian\n",
      "\n",
      "    :Donor: Nick Street\n",
      "\n",
      "    :Date: November, 1995\n",
      "\n",
      "This is a copy of UCI ML Breast Cancer Wisconsin (Diagnostic) datasets.\n",
      "https://goo.gl/U2Uwz2\n",
      "\n",
      "Features are computed from a digitized image of a fine needle\n",
      "aspirate (FNA) of a breast mass.  They describe\n",
      "characteristics of the cell nuclei present in the image.\n",
      "\n",
      "Separating plane described above was obtained using\n",
      "Multisurface Method-Tree (MSM-T) [K. P. Bennett, \"Decision Tree\n",
      "Construction Via Linear Programming.\" Proceedings of the 4th\n",
      "Midwest Artificial Intelligence and Cognitive Science Society,\n",
      "pp. 97-101, 1992], a classification method which uses linear\n",
      "programming to construct a decision tree.  Relevant features\n",
      "were selected using an exhaustive search in the space of 1-4\n",
      "features and 1-3 separating planes.\n",
      "\n",
      "The actual linear program used to obtain the separating plane\n",
      "in the 3-dimensional space is that described in:\n",
      "[K. P. Bennett and O. L. Mangasarian: \"Robust Linear\n",
      "Programming Discrimination of Two Linearly Inseparable Sets\",\n",
      "Optimization Methods and Software 1, 1992, 23-34].\n",
      "\n",
      "This database is also available through the UW CS ftp server:\n",
      "\n",
      "ftp ftp.cs.wisc.edu\n",
      "cd math-prog/cpo-dataset/machine-learn/WDBC/\n",
      "\n",
      ".. topic:: References\n",
      "\n",
      "   - W.N. Street, W.H. Wolberg and O.L. Mangasarian. Nuclear feature extraction \n",
      "     for breast tumor diagnosis. IS&T/SPIE 1993 International Symposium on \n",
      "     Electronic Imaging: Science and Technology, volume 1905, pages 861-870,\n",
      "     San Jose, CA, 1993.\n",
      "   - O.L. Mangasarian, W.N. Street and W.H. Wolberg. Breast cancer diagnosis and \n",
      "     prognosis via linear programming. Operations Research, 43(4), pages 570-577, \n",
      "     July-August 1995.\n",
      "   - W.H. Wolberg, W.N. Street, and O.L. Mangasarian. Machine learning techniques\n",
      "     to diagnose breast cancer from fine-needle aspirates. Cancer Letters 77 (1994) \n",
      "     163-171.\n"
     ]
    }
   ],
   "metadata": {}
  },
  {
   "cell_type": "code",
   "execution_count": 72,
   "source": [
    "#checking sample and target sizes\r\n",
    "print(f\"Sample Size: {breast_cancer.data.shape}\")\r\n",
    "print(f\"Target Size: {breast_cancer.target.shape}\")"
   ],
   "outputs": [
    {
     "output_type": "stream",
     "name": "stdout",
     "text": [
      "Sample Size: (569, 30)\n",
      "Target Size: (569,)\n"
     ]
    }
   ],
   "metadata": {}
  },
  {
   "cell_type": "code",
   "execution_count": 73,
   "source": [
    "from sklearn.model_selection import train_test_split\r\n",
    "\r\n",
    "#splitting the data for training and testing\r\n",
    "X_train, X_test, y_train, y_test = train_test_split(breast_cancer.data, breast_cancer.target, random_state=11)\r\n",
    "\r\n",
    "print(f\"Train Shape: {X_train.shape}\")\r\n",
    "print(f\"Test Shape: {X_test.shape}\")\r\n",
    "print(f\"Percentage of data used for test: { X_test.shape[0] / breast_cancer.data.shape[0] :.2%}\")"
   ],
   "outputs": [
    {
     "output_type": "stream",
     "name": "stdout",
     "text": [
      "Train Shape: (426, 30)\n",
      "Test Shape: (143, 30)\n",
      "Percentage of data used for test: 25.13%\n"
     ]
    }
   ],
   "metadata": {}
  },
  {
   "cell_type": "code",
   "execution_count": 74,
   "source": [
    "from sklearn.naive_bayes import GaussianNB\r\n",
    "\r\n",
    "nb = GaussianNB()\r\n",
    "\r\n",
    "#this fits the data using the split from above\r\n",
    "nb.fit(X=X_train, y=y_train)\r\n",
    "\r\n",
    "#this tests the data using the split from above\r\n",
    "predicted = nb.predict(X=X_test)\r\n",
    "expected = y_test"
   ],
   "outputs": [],
   "metadata": {}
  },
  {
   "cell_type": "code",
   "execution_count": 75,
   "source": [
    "#checking the predicted data against the expected data\r\n",
    "wrong = [(p,e) for (p,e) in zip(predicted, expected) if p != e]\r\n",
    "\r\n",
    "#these represent the results that were wrong\r\n",
    "print(f'Wrong Predictions: {wrong}')\r\n",
    "\r\n",
    "#calculates the accuracy of the test\r\n",
    "print(f'Accuracy: {(y_test.size-len(wrong))/y_test.size:.2%}')\r\n",
    "\r\n",
    "#another way to test accuracy using score method\r\n",
    "print(f'Accuracy (using nb.score): {nb.score(X_test, y_test):.2%}')"
   ],
   "outputs": [
    {
     "output_type": "stream",
     "name": "stdout",
     "text": [
      "Wrong Predictions: [(1, 0), (1, 0), (0, 1), (1, 0), (1, 0), (1, 0), (1, 0)]\n",
      "Accuracy: 95.10%\n",
      "Accuracy (using nb.score): 95.10%\n"
     ]
    }
   ],
   "metadata": {}
  },
  {
   "cell_type": "code",
   "execution_count": 76,
   "source": [
    "from sklearn.metrics import confusion_matrix\r\n",
    "import pandas as pd\r\n",
    "import seaborn as sns\r\n",
    "\r\n",
    "#confusion matrix for test data\r\n",
    "confusion = confusion_matrix(y_true=expected, y_pred=predicted)\r\n",
    "\r\n",
    "print(f'Confusion Matrix: \\n{confusion}')\r\n",
    "\r\n",
    "confusion_df = pd.DataFrame(confusion, index=range(2), columns=range(2))\r\n",
    "\r\n",
    "#visualizing confusion matrix using colored heatmap\r\n",
    "axes = sns.heatmap(confusion_df, annot=True, cmap='nipy_spectral_r')\r\n"
   ],
   "outputs": [
    {
     "output_type": "stream",
     "name": "stdout",
     "text": [
      "Confusion Matrix: \n",
      "[[44  6]\n",
      " [ 1 92]]\n"
     ]
    },
    {
     "output_type": "display_data",
     "data": {
      "text/plain": [
       "<Figure size 432x288 with 2 Axes>"
      ],
      "image/svg+xml": "<?xml version=\"1.0\" encoding=\"utf-8\" standalone=\"no\"?>\n<!DOCTYPE svg PUBLIC \"-//W3C//DTD SVG 1.1//EN\"\n  \"http://www.w3.org/Graphics/SVG/1.1/DTD/svg11.dtd\">\n<svg xmlns:xlink=\"http://www.w3.org/1999/xlink\" width=\"346.255125pt\" height=\"248.518125pt\" viewBox=\"0 0 346.255125 248.518125\" xmlns=\"http://www.w3.org/2000/svg\" version=\"1.1\">\n <metadata>\n  <rdf:RDF xmlns:dc=\"http://purl.org/dc/elements/1.1/\" xmlns:cc=\"http://creativecommons.org/ns#\" xmlns:rdf=\"http://www.w3.org/1999/02/22-rdf-syntax-ns#\">\n   <cc:Work>\n    <dc:type rdf:resource=\"http://purl.org/dc/dcmitype/StillImage\"/>\n    <dc:date>2022-09-11T18:41:05.951973</dc:date>\n    <dc:format>image/svg+xml</dc:format>\n    <dc:creator>\n     <cc:Agent>\n      <dc:title>Matplotlib v3.5.1, https://matplotlib.org/</dc:title>\n     </cc:Agent>\n    </dc:creator>\n   </cc:Work>\n  </rdf:RDF>\n </metadata>\n <defs>\n  <style type=\"text/css\">*{stroke-linejoin: round; stroke-linecap: butt}</style>\n </defs>\n <g id=\"figure_1\">\n  <g id=\"patch_1\">\n   <path d=\"M -0 248.518125 \nL 346.255125 248.518125 \nL 346.255125 0 \nL -0 0 \nL -0 248.518125 \nz\n\" style=\"fill: none\"/>\n  </g>\n  <g id=\"axes_1\">\n   <g id=\"patch_2\">\n    <path d=\"M 23.878125 224.64 \nL 291.718125 224.64 \nL 291.718125 7.2 \nL 23.878125 7.2 \nz\n\" style=\"fill: #ffffff\"/>\n   </g>\n   <g id=\"QuadMesh_1\">\n    <path d=\"M 23.878125 7.2 \nL 157.798125 7.2 \nL 157.798125 115.92 \nL 23.878125 115.92 \nL 23.878125 7.2 \n\" clip-path=\"url(#pdcf52c7288)\" style=\"fill: #00cf00\"/>\n    <path d=\"M 157.798125 7.2 \nL 291.718125 7.2 \nL 291.718125 115.92 \nL 157.798125 115.92 \nL 157.798125 7.2 \n\" clip-path=\"url(#pdcf52c7288)\" style=\"fill: #ce0000\"/>\n    <path d=\"M 23.878125 115.92 \nL 157.798125 115.92 \nL 157.798125 224.64 \nL 23.878125 224.64 \nL 23.878125 115.92 \n\" clip-path=\"url(#pdcf52c7288)\" style=\"fill: #cccccc\"/>\n    <path d=\"M 157.798125 115.92 \nL 291.718125 115.92 \nL 291.718125 224.64 \nL 157.798125 224.64 \nL 157.798125 115.92 \n\" clip-path=\"url(#pdcf52c7288)\"/>\n   </g>\n   <g id=\"matplotlib.axis_1\">\n    <g id=\"xtick_1\">\n     <g id=\"line2d_1\">\n      <defs>\n       <path id=\"m39e1c58182\" d=\"M 0 0 \nL 0 3.5 \n\" style=\"stroke: #000000; stroke-width: 0.8\"/>\n      </defs>\n      <g>\n       <use xlink:href=\"#m39e1c58182\" x=\"90.838125\" y=\"224.64\" style=\"stroke: #000000; stroke-width: 0.8\"/>\n      </g>\n     </g>\n     <g id=\"text_1\">\n      <!-- 0 -->\n      <g transform=\"translate(87.656875 239.238437)scale(0.1 -0.1)\">\n       <defs>\n        <path id=\"DejaVuSans-30\" d=\"M 2034 4250 \nQ 1547 4250 1301 3770 \nQ 1056 3291 1056 2328 \nQ 1056 1369 1301 889 \nQ 1547 409 2034 409 \nQ 2525 409 2770 889 \nQ 3016 1369 3016 2328 \nQ 3016 3291 2770 3770 \nQ 2525 4250 2034 4250 \nz\nM 2034 4750 \nQ 2819 4750 3233 4129 \nQ 3647 3509 3647 2328 \nQ 3647 1150 3233 529 \nQ 2819 -91 2034 -91 \nQ 1250 -91 836 529 \nQ 422 1150 422 2328 \nQ 422 3509 836 4129 \nQ 1250 4750 2034 4750 \nz\n\" transform=\"scale(0.015625)\"/>\n       </defs>\n       <use xlink:href=\"#DejaVuSans-30\"/>\n      </g>\n     </g>\n    </g>\n    <g id=\"xtick_2\">\n     <g id=\"line2d_2\">\n      <g>\n       <use xlink:href=\"#m39e1c58182\" x=\"224.758125\" y=\"224.64\" style=\"stroke: #000000; stroke-width: 0.8\"/>\n      </g>\n     </g>\n     <g id=\"text_2\">\n      <!-- 1 -->\n      <g transform=\"translate(221.576875 239.238437)scale(0.1 -0.1)\">\n       <defs>\n        <path id=\"DejaVuSans-31\" d=\"M 794 531 \nL 1825 531 \nL 1825 4091 \nL 703 3866 \nL 703 4441 \nL 1819 4666 \nL 2450 4666 \nL 2450 531 \nL 3481 531 \nL 3481 0 \nL 794 0 \nL 794 531 \nz\n\" transform=\"scale(0.015625)\"/>\n       </defs>\n       <use xlink:href=\"#DejaVuSans-31\"/>\n      </g>\n     </g>\n    </g>\n   </g>\n   <g id=\"matplotlib.axis_2\">\n    <g id=\"ytick_1\">\n     <g id=\"line2d_3\">\n      <defs>\n       <path id=\"m85eaceada9\" d=\"M 0 0 \nL -3.5 0 \n\" style=\"stroke: #000000; stroke-width: 0.8\"/>\n      </defs>\n      <g>\n       <use xlink:href=\"#m85eaceada9\" x=\"23.878125\" y=\"61.56\" style=\"stroke: #000000; stroke-width: 0.8\"/>\n      </g>\n     </g>\n     <g id=\"text_3\">\n      <!-- 0 -->\n      <g transform=\"translate(14.798438 64.74125)rotate(-90)scale(0.1 -0.1)\">\n       <use xlink:href=\"#DejaVuSans-30\"/>\n      </g>\n     </g>\n    </g>\n    <g id=\"ytick_2\">\n     <g id=\"line2d_4\">\n      <g>\n       <use xlink:href=\"#m85eaceada9\" x=\"23.878125\" y=\"170.28\" style=\"stroke: #000000; stroke-width: 0.8\"/>\n      </g>\n     </g>\n     <g id=\"text_4\">\n      <!-- 1 -->\n      <g transform=\"translate(14.798438 173.46125)rotate(-90)scale(0.1 -0.1)\">\n       <use xlink:href=\"#DejaVuSans-31\"/>\n      </g>\n     </g>\n    </g>\n   </g>\n   <g id=\"text_5\">\n    <!-- 44 -->\n    <g style=\"fill: #262626\" transform=\"translate(84.475625 64.319375)scale(0.1 -0.1)\">\n     <defs>\n      <path id=\"DejaVuSans-34\" d=\"M 2419 4116 \nL 825 1625 \nL 2419 1625 \nL 2419 4116 \nz\nM 2253 4666 \nL 3047 4666 \nL 3047 1625 \nL 3713 1625 \nL 3713 1100 \nL 3047 1100 \nL 3047 0 \nL 2419 0 \nL 2419 1100 \nL 313 1100 \nL 313 1709 \nL 2253 4666 \nz\n\" transform=\"scale(0.015625)\"/>\n     </defs>\n     <use xlink:href=\"#DejaVuSans-34\"/>\n     <use xlink:href=\"#DejaVuSans-34\" x=\"63.623047\"/>\n    </g>\n   </g>\n   <g id=\"text_6\">\n    <!-- 6 -->\n    <g style=\"fill: #ffffff\" transform=\"translate(221.576875 64.319375)scale(0.1 -0.1)\">\n     <defs>\n      <path id=\"DejaVuSans-36\" d=\"M 2113 2584 \nQ 1688 2584 1439 2293 \nQ 1191 2003 1191 1497 \nQ 1191 994 1439 701 \nQ 1688 409 2113 409 \nQ 2538 409 2786 701 \nQ 3034 994 3034 1497 \nQ 3034 2003 2786 2293 \nQ 2538 2584 2113 2584 \nz\nM 3366 4563 \nL 3366 3988 \nQ 3128 4100 2886 4159 \nQ 2644 4219 2406 4219 \nQ 1781 4219 1451 3797 \nQ 1122 3375 1075 2522 \nQ 1259 2794 1537 2939 \nQ 1816 3084 2150 3084 \nQ 2853 3084 3261 2657 \nQ 3669 2231 3669 1497 \nQ 3669 778 3244 343 \nQ 2819 -91 2113 -91 \nQ 1303 -91 875 529 \nQ 447 1150 447 2328 \nQ 447 3434 972 4092 \nQ 1497 4750 2381 4750 \nQ 2619 4750 2861 4703 \nQ 3103 4656 3366 4563 \nz\n\" transform=\"scale(0.015625)\"/>\n     </defs>\n     <use xlink:href=\"#DejaVuSans-36\"/>\n    </g>\n   </g>\n   <g id=\"text_7\">\n    <!-- 1 -->\n    <g style=\"fill: #262626\" transform=\"translate(87.656875 173.039375)scale(0.1 -0.1)\">\n     <use xlink:href=\"#DejaVuSans-31\"/>\n    </g>\n   </g>\n   <g id=\"text_8\">\n    <!-- 92 -->\n    <g style=\"fill: #ffffff\" transform=\"translate(218.395625 173.039375)scale(0.1 -0.1)\">\n     <defs>\n      <path id=\"DejaVuSans-39\" d=\"M 703 97 \nL 703 672 \nQ 941 559 1184 500 \nQ 1428 441 1663 441 \nQ 2288 441 2617 861 \nQ 2947 1281 2994 2138 \nQ 2813 1869 2534 1725 \nQ 2256 1581 1919 1581 \nQ 1219 1581 811 2004 \nQ 403 2428 403 3163 \nQ 403 3881 828 4315 \nQ 1253 4750 1959 4750 \nQ 2769 4750 3195 4129 \nQ 3622 3509 3622 2328 \nQ 3622 1225 3098 567 \nQ 2575 -91 1691 -91 \nQ 1453 -91 1209 -44 \nQ 966 3 703 97 \nz\nM 1959 2075 \nQ 2384 2075 2632 2365 \nQ 2881 2656 2881 3163 \nQ 2881 3666 2632 3958 \nQ 2384 4250 1959 4250 \nQ 1534 4250 1286 3958 \nQ 1038 3666 1038 3163 \nQ 1038 2656 1286 2365 \nQ 1534 2075 1959 2075 \nz\n\" transform=\"scale(0.015625)\"/>\n      <path id=\"DejaVuSans-32\" d=\"M 1228 531 \nL 3431 531 \nL 3431 0 \nL 469 0 \nL 469 531 \nQ 828 903 1448 1529 \nQ 2069 2156 2228 2338 \nQ 2531 2678 2651 2914 \nQ 2772 3150 2772 3378 \nQ 2772 3750 2511 3984 \nQ 2250 4219 1831 4219 \nQ 1534 4219 1204 4116 \nQ 875 4013 500 3803 \nL 500 4441 \nQ 881 4594 1212 4672 \nQ 1544 4750 1819 4750 \nQ 2544 4750 2975 4387 \nQ 3406 4025 3406 3419 \nQ 3406 3131 3298 2873 \nQ 3191 2616 2906 2266 \nQ 2828 2175 2409 1742 \nQ 1991 1309 1228 531 \nz\n\" transform=\"scale(0.015625)\"/>\n     </defs>\n     <use xlink:href=\"#DejaVuSans-39\"/>\n     <use xlink:href=\"#DejaVuSans-32\" x=\"63.623047\"/>\n    </g>\n   </g>\n  </g>\n  <g id=\"axes_2\">\n   <g id=\"patch_3\">\n    <path d=\"M 308.458125 224.64 \nL 319.330125 224.64 \nL 319.330125 7.2 \nL 308.458125 7.2 \nz\n\" style=\"fill: #ffffff\"/>\n   </g>\n   <g id=\"patch_4\">\n    <path clip-path=\"url(#pd21c6dcefe)\" style=\"fill: #ffffff; stroke: #ffffff; stroke-width: 0.01; stroke-linejoin: miter\"/>\n   </g>\n   <image xlink:href=\"data:image/png;base64,\niVBORw0KGgoAAAANSUhEUgAAAAsAAADZCAYAAAD2WsoCAAABZUlEQVR4nO2YQWrDMBBFR/G0NEl3JaX3P48PEciytKQlTdLUkrvNcl7gw8TY68fjfyFGkkvf96MFP7f9Psqa23YLYGS+RzjJahwOcXgRRqVwkcG6GJ3MrCuIMiP4QWaeC17DZQlge5bBbzliTL6g54CfcsRIAstWo4FZ4COYMgyuYNgxc5KCKEZ7BHAl5gGc9BCWxTiTdZ58wfhV28y/CPwtMyN4JzMnKUhiFBsMPKUbiGFVBqMYF5k5SUFk/pOZkxRMshpzwZvN8yi4OUZ5AfBiRcxrFayL0W1U5iQFLX6xc7P4E4ia4zdXap4LXsEt/vB2a/EnPTSPMlgXo5LVEBYkGynJQX+Pt4Ik154zgU8EPhL4U2ZGmSdf0IYccHzb5cmcomAHZoGvwCzwdfwvC4Q3JDMyJymIYrwSmExzH0lmBDcSQwcnKYjMlWz+XzI3TvYTh4/gUGFmBH/Yu8ico2Axi2+Of0eGu48IEpvLAAAAAElFTkSuQmCC\" id=\"imagee9af845927\" transform=\"scale(1 -1)translate(0 -217)\" x=\"308\" y=\"-7\" width=\"11\" height=\"217\"/>\n   <g id=\"matplotlib.axis_3\">\n    <g id=\"ytick_3\">\n     <g id=\"line2d_5\">\n      <defs>\n       <path id=\"mdc86630ff9\" d=\"M 0 0 \nL 3.5 0 \n\" style=\"stroke: #000000; stroke-width: 0.8\"/>\n      </defs>\n      <g>\n       <use xlink:href=\"#mdc86630ff9\" x=\"319.330125\" y=\"179.24044\" style=\"stroke: #000000; stroke-width: 0.8\"/>\n      </g>\n     </g>\n     <g id=\"text_9\">\n      <!-- 20 -->\n      <g transform=\"translate(326.330125 183.039658)scale(0.1 -0.1)\">\n       <use xlink:href=\"#DejaVuSans-32\"/>\n       <use xlink:href=\"#DejaVuSans-30\" x=\"63.623047\"/>\n      </g>\n     </g>\n    </g>\n    <g id=\"ytick_4\">\n     <g id=\"line2d_6\">\n      <g>\n       <use xlink:href=\"#mdc86630ff9\" x=\"319.330125\" y=\"131.451429\" style=\"stroke: #000000; stroke-width: 0.8\"/>\n      </g>\n     </g>\n     <g id=\"text_10\">\n      <!-- 40 -->\n      <g transform=\"translate(326.330125 135.250647)scale(0.1 -0.1)\">\n       <use xlink:href=\"#DejaVuSans-34\"/>\n       <use xlink:href=\"#DejaVuSans-30\" x=\"63.623047\"/>\n      </g>\n     </g>\n    </g>\n    <g id=\"ytick_5\">\n     <g id=\"line2d_7\">\n      <g>\n       <use xlink:href=\"#mdc86630ff9\" x=\"319.330125\" y=\"83.662418\" style=\"stroke: #000000; stroke-width: 0.8\"/>\n      </g>\n     </g>\n     <g id=\"text_11\">\n      <!-- 60 -->\n      <g transform=\"translate(326.330125 87.461636)scale(0.1 -0.1)\">\n       <use xlink:href=\"#DejaVuSans-36\"/>\n       <use xlink:href=\"#DejaVuSans-30\" x=\"63.623047\"/>\n      </g>\n     </g>\n    </g>\n    <g id=\"ytick_6\">\n     <g id=\"line2d_8\">\n      <g>\n       <use xlink:href=\"#mdc86630ff9\" x=\"319.330125\" y=\"35.873407\" style=\"stroke: #000000; stroke-width: 0.8\"/>\n      </g>\n     </g>\n     <g id=\"text_12\">\n      <!-- 80 -->\n      <g transform=\"translate(326.330125 39.672625)scale(0.1 -0.1)\">\n       <defs>\n        <path id=\"DejaVuSans-38\" d=\"M 2034 2216 \nQ 1584 2216 1326 1975 \nQ 1069 1734 1069 1313 \nQ 1069 891 1326 650 \nQ 1584 409 2034 409 \nQ 2484 409 2743 651 \nQ 3003 894 3003 1313 \nQ 3003 1734 2745 1975 \nQ 2488 2216 2034 2216 \nz\nM 1403 2484 \nQ 997 2584 770 2862 \nQ 544 3141 544 3541 \nQ 544 4100 942 4425 \nQ 1341 4750 2034 4750 \nQ 2731 4750 3128 4425 \nQ 3525 4100 3525 3541 \nQ 3525 3141 3298 2862 \nQ 3072 2584 2669 2484 \nQ 3125 2378 3379 2068 \nQ 3634 1759 3634 1313 \nQ 3634 634 3220 271 \nQ 2806 -91 2034 -91 \nQ 1263 -91 848 271 \nQ 434 634 434 1313 \nQ 434 1759 690 2068 \nQ 947 2378 1403 2484 \nz\nM 1172 3481 \nQ 1172 3119 1398 2916 \nQ 1625 2713 2034 2713 \nQ 2441 2713 2670 2916 \nQ 2900 3119 2900 3481 \nQ 2900 3844 2670 4047 \nQ 2441 4250 2034 4250 \nQ 1625 4250 1398 4047 \nQ 1172 3844 1172 3481 \nz\n\" transform=\"scale(0.015625)\"/>\n       </defs>\n       <use xlink:href=\"#DejaVuSans-38\"/>\n       <use xlink:href=\"#DejaVuSans-30\" x=\"63.623047\"/>\n      </g>\n     </g>\n    </g>\n   </g>\n   <g id=\"LineCollection_1\"/>\n   <g id=\"patch_5\">\n    <path d=\"M 308.458125 224.64 \nL 313.894125 224.64 \nL 319.330125 224.64 \nL 319.330125 7.2 \nL 313.894125 7.2 \nL 308.458125 7.2 \nL 308.458125 224.64 \nz\n\" style=\"fill: none\"/>\n   </g>\n  </g>\n </g>\n <defs>\n  <clipPath id=\"pdcf52c7288\">\n   <rect x=\"23.878125\" y=\"7.2\" width=\"267.84\" height=\"217.44\"/>\n  </clipPath>\n  <clipPath id=\"pd21c6dcefe\">\n   <rect x=\"308.458125\" y=\"7.2\" width=\"10.872\" height=\"217.44\"/>\n  </clipPath>\n </defs>\n</svg>\n",
      "image/png": "[encoded data removed]"
     },
     "metadata": {
      "needs_background": "light"
     }
    }
   ],
   "metadata": {}
  },
  {
   "cell_type": "code",
   "execution_count": 77,
   "source": [
    "from sklearn.metrics import classification_report\r\n",
    "\r\n",
    "#classifcation report\r\n",
    "names = [str(target_name) for target_name in breast_cancer.target_names]\r\n",
    "print(classification_report(expected, predicted,target_names=names))"
   ],
   "outputs": [
    {
     "output_type": "stream",
     "name": "stdout",
     "text": [
      "              precision    recall  f1-score   support\n",
      "\n",
      "   malignant       0.98      0.88      0.93        50\n",
      "      benign       0.94      0.99      0.96        93\n",
      "\n",
      "    accuracy                           0.95       143\n",
      "   macro avg       0.96      0.93      0.94       143\n",
      "weighted avg       0.95      0.95      0.95       143\n",
      "\n"
     ]
    }
   ],
   "metadata": {}
  },
  {
   "cell_type": "code",
   "execution_count": 78,
   "source": [
    "from sklearn.model_selection import KFold, cross_val_score\r\n",
    "\r\n",
    "#kfold for gaussian_nb\r\n",
    "kfold = KFold(n_splits=10, shuffle=True, random_state=11)\r\n",
    "scores = cross_val_score(estimator=nb, X=breast_cancer.data, y=breast_cancer.target, cv=kfold)\r\n",
    "\r\n",
    "print(scores)\r\n",
    "print(f'Mean Accuracy: {scores.mean():.2%}')\r\n",
    "print(f'Accuracy Standard Deviation: {scores.std():.2%}')"
   ],
   "outputs": [
    {
     "output_type": "stream",
     "name": "stdout",
     "text": [
      "[0.96491228 0.9122807  0.94736842 0.89473684 0.96491228 0.94736842\n",
      " 0.96491228 0.89473684 0.96491228 0.92857143]\n",
      "Mean Accuracy: 93.85%\n",
      "Accuracy Standard Deviation: 2.75%\n"
     ]
    }
   ],
   "metadata": {}
  },
  {
   "cell_type": "code",
   "execution_count": 79,
   "source": [
    "\r\n",
    "from sklearn.neighbors import KNeighborsClassifier\r\n",
    "from sklearn.linear_model import LogisticRegression\r\n",
    "from sklearn.svm import SVC\r\n",
    "\r\n",
    "estimators = {\r\n",
    "    'GaussianNB': nb,\r\n",
    "    'KNeighborsClassifier': KNeighborsClassifier(),\r\n",
    "    'LogisticRegression': LogisticRegression(solver='lbfgs',multi_class='ovr',max_iter=10000),\r\n",
    "    'SVC': SVC(gamma='scale')\r\n",
    "}"
   ],
   "outputs": [],
   "metadata": {}
  },
  {
   "cell_type": "code",
   "execution_count": 80,
   "source": [
    "#runs cross_fold_validation on all the estimators in order to determine which one is the best\r\n",
    "for estimator_name, estimator_object in estimators.items():\r\n",
    "    kfold = KFold(n_splits=10, random_state=11, shuffle=True)\r\n",
    "    scores = cross_val_score(estimator=estimator_object, X=breast_cancer.data, y=breast_cancer.target, cv=kfold)\r\n",
    "    print(f'{estimator_name:>20}: mean accuracy={scores.mean():.2%} standard deviation={scores.std():.2%}')"
   ],
   "outputs": [
    {
     "output_type": "stream",
     "name": "stdout",
     "text": [
      "          GaussianNB: mean accuracy=93.85% standard deviation=2.75%\n",
      "KNeighborsClassifier: mean accuracy=92.79% standard deviation=2.01%\n",
      "  LogisticRegression: mean accuracy=95.08% standard deviation=3.02%\n",
      "                 SVC: mean accuracy=91.92% standard deviation=3.52%\n"
     ]
    }
   ],
   "metadata": {}
  },
  {
   "cell_type": "markdown",
   "source": [
    "<p>As you can tell, Logistic Regression had a better accuracy than the other estimators</p>"
   ],
   "metadata": {}
  }
 ],
 "metadata": {
  "orig_nbformat": 4,
  "language_info": {
   "name": "python",
   "version": "3.9.12",
   "mimetype": "text/x-python",
   "codemirror_mode": {
    "name": "ipython",
    "version": 3
   },
   "pygments_lexer": "ipython3",
   "nbconvert_exporter": "python",
   "file_extension": ".py"
  },
  "kernelspec": {
   "name": "python3",
   "display_name": "Python 3.9.12 64-bit ('base': conda)"
  },
  "interpreter": {
   "hash": "b3ba2566441a7c06988d0923437866b63cedc61552a5af99d1f4fb67d367b25f"
  }
 },
 "nbformat": 4,
 "nbformat_minor": 2
}